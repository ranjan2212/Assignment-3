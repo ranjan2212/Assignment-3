{
 "cells": [
  {
   "cell_type": "markdown",
   "id": "977b6f59",
   "metadata": {},
   "source": [
    "Q.1. Why are functions advantageous to have in your programs?"
   ]
  },
  {
   "cell_type": "markdown",
   "id": "c0d539be",
   "metadata": {},
   "source": [
    "A.1 There are many advantages to using functions in your programs. Here are a few of the most important ones:\n",
    "\n",
    "Readability: Functions make programs more readable ,easier to understand the overall structure of the program and to find specific pieces of code.\n",
    "\n",
    "Reusability: This is especially useful for code that is used frequently, such as code for performing common tasks.\n",
    "\n",
    "Modularity: Functions can be used to create modules of code that are self-contained and independent of the rest of the program. This makes it easier to debug and maintain the code.\n",
    "\n",
    "Testability: Functions can be easily tested in isolation, which can help to identify and fix bugs.\n",
    "\n",
    "Performance: Functions can be optimized for performance and improve the speed of the program.\n",
    "Overall, functions are a powerful tool that can make your programs more readable, reusable, modular, testable, and performant.\n",
    "\n",
    "Enhanced security: Functions can be used to encapsulate sensitive data and prevent unauthorized access. This can help to protect your users' privacy and security.\n",
    "\n"
   ]
  },
  {
   "cell_type": "markdown",
   "id": "b48bb987",
   "metadata": {},
   "source": [
    "Q.2. When does the code in a function run: when it's specified or when it's called?"
   ]
  },
  {
   "cell_type": "markdown",
   "id": "59348511",
   "metadata": {},
   "source": [
    "A.2. The code in a function runs when it is called, not when it is specified. When a function is called, the program execution        is transferred to the function body, and the code in the function is executed until the function returns.\n",
    "\n",
    "     For example, the following code defines a function called my_function() and calls it:"
   ]
  },
  {
   "cell_type": "code",
   "execution_count": 2,
   "id": "c4447636",
   "metadata": {},
   "outputs": [
    {
     "name": "stdout",
     "output_type": "stream",
     "text": [
      "Hello, world!\n"
     ]
    }
   ],
   "source": [
    "def function():\n",
    "  print(\"Hello, Ineuron\")\n",
    "\n",
    "function()\n"
   ]
  },
  {
   "cell_type": "markdown",
   "id": "b6b46935",
   "metadata": {},
   "source": [
    "It is important to note that the code in a function is not executed when the function is defined. The function body is simply stored in memory until the function is called. This allows the function to be called multiple times without having to re-evaluate the function body each time."
   ]
  },
  {
   "cell_type": "markdown",
   "id": "ca8b156a",
   "metadata": {},
   "source": [
    "Q.3.What statement creates a function?"
   ]
  },
  {
   "cell_type": "code",
   "execution_count": null,
   "id": "594fcd47",
   "metadata": {},
   "outputs": [],
   "source": [
    "def create_function(parameters):\n",
    "    \"\"\"Body of the program\"\"\""
   ]
  },
  {
   "cell_type": "markdown",
   "id": "ec30ee80",
   "metadata": {},
   "source": [
    "*function_name is the name of the function.\n",
    "*parameters is a list of variables that are passed to the function.\n",
    "*body is the code that is executed when the function is called."
   ]
  },
  {
   "cell_type": "code",
   "execution_count": null,
   "id": "8877ec9d",
   "metadata": {},
   "outputs": [],
   "source": [
    "Eg."
   ]
  },
  {
   "cell_type": "code",
   "execution_count": 4,
   "id": "38764824",
   "metadata": {},
   "outputs": [
    {
     "data": {
      "text/plain": [
       "15"
      ]
     },
     "execution_count": 4,
     "metadata": {},
     "output_type": "execute_result"
    }
   ],
   "source": [
    "def function_name(x,y):\n",
    "    return x*y\n",
    "function_name(5,3)\n"
   ]
  },
  {
   "cell_type": "markdown",
   "id": "9e951dc0",
   "metadata": {},
   "source": [
    "Q.4. What is the difference between a function and a function call?"
   ]
  },
  {
   "cell_type": "markdown",
   "id": "98a38a5c",
   "metadata": {},
   "source": [
    "A.4. So the difference between a function and a function call is as follows:\n",
    "     \n",
    "     *A function is a defined block of code that performs a specific task.\n",
    "     *A function call is the act of invoking a function and executing its code. "
   ]
  },
  {
   "cell_type": "code",
   "execution_count": null,
   "id": "a260d7e7",
   "metadata": {},
   "outputs": [],
   "source": [
    "# Function definition\n",
    "def deep():\n",
    "    print(\"Hello, ineuron!\")\n",
    "\n",
    "# Function call\n",
    "deep()\n"
   ]
  },
  {
   "cell_type": "markdown",
   "id": "b2db83b3",
   "metadata": {},
   "source": [
    "Q.5. How many global scopes are there in a Python program? How many local scopes?"
   ]
  },
  {
   "cell_type": "markdown",
   "id": "14c7981f",
   "metadata": {},
   "source": [
    "A.5. Only one global scope in python. All variables that are defined outside of any function are in the global scope.\n",
    "     There can be any number of local scopes in a Python program. A local scope is created when a function is called. All            variables that are defined inside a function are in the local scope of that function and any variables or parameters            defined within that function are accessible only within its local scope"
   ]
  },
  {
   "cell_type": "code",
   "execution_count": 5,
   "id": "9e109f1c",
   "metadata": {},
   "outputs": [
    {
     "name": "stdout",
     "output_type": "stream",
     "text": [
      "10\n",
      "20\n"
     ]
    }
   ],
   "source": [
    "# Global scope\n",
    "a = 10\n",
    "\n",
    "def new_function():\n",
    "    # Local scope\n",
    "    b = 20\n",
    "    print(b)\n",
    "\n",
    "# Accessing global scope variable\n",
    "print(a)\n",
    "\n",
    "# Calling the function\n",
    "new_function()\n"
   ]
  },
  {
   "cell_type": "markdown",
   "id": "6741fb9c",
   "metadata": {},
   "source": [
    "Q.6. What happens to variables in a local scope when the function call returns?"
   ]
  },
  {
   "cell_type": "markdown",
   "id": "9dd8ad2e",
   "metadata": {},
   "source": [
    "A.6. When a function call returns in Python, the local variables defined within that function's scope are destroyed, and the          memory allocated to them is freed.\n",
    "     These variables are no longer accessible once the function call completes."
   ]
  },
  {
   "cell_type": "code",
   "execution_count": 7,
   "id": "721c95db",
   "metadata": {},
   "outputs": [],
   "source": [
    "def my1_function():\n",
    "    x = 10\n",
    "    print(x)"
   ]
  },
  {
   "cell_type": "code",
   "execution_count": 9,
   "id": "c3539e26",
   "metadata": {},
   "outputs": [
    {
     "name": "stdout",
     "output_type": "stream",
     "text": [
      "10\n"
     ]
    },
    {
     "ename": "NameError",
     "evalue": "name 'x' is not defined",
     "output_type": "error",
     "traceback": [
      "\u001b[1;31m---------------------------------------------------------------------------\u001b[0m",
      "\u001b[1;31mNameError\u001b[0m                                 Traceback (most recent call last)",
      "Cell \u001b[1;32mIn[9], line 2\u001b[0m\n\u001b[0;32m      1\u001b[0m my1_function()\n\u001b[1;32m----> 2\u001b[0m \u001b[38;5;28mprint\u001b[39m(\u001b[43mx\u001b[49m)\n",
      "\u001b[1;31mNameError\u001b[0m: name 'x' is not defined"
     ]
    }
   ],
   "source": [
    "\n",
    "my1_function()\n",
    "print(x)  # Error: NameError: name 'local_var' is not defined"
   ]
  },
  {
   "cell_type": "markdown",
   "id": "eb3923df",
   "metadata": {},
   "source": [
    "Q.7. What is the concept of a return value? Is it possible to have a return value in an expression?"
   ]
  },
  {
   "cell_type": "markdown",
   "id": "30c817b1",
   "metadata": {},
   "source": [
    "A.7. A return value is the value that a function returns to the calling function when it completes its task. The return value        can be any type of value, such as an integer, a float, a string, or an object.\n",
    "     \n",
    "     The return statement in a function allows you to specify the value that should be passed back as the result of the function      call.\n"
   ]
  },
  {
   "cell_type": "markdown",
   "id": "31bebd30",
   "metadata": {},
   "source": [
    "Q.8 If a function does not have a return statement, what is the return value of a call to that function?"
   ]
  },
  {
   "cell_type": "markdown",
   "id": "dc1f54e4",
   "metadata": {},
   "source": [
    "A.8 If a function does not have a return statement, it will implicitly return None in Python. None represents the absence of a value. When a function reaches the end without encountering a return statement, it is equivalent to having a return None statement at the end.\n"
   ]
  },
  {
   "cell_type": "code",
   "execution_count": 2,
   "id": "8a65afca",
   "metadata": {},
   "outputs": [
    {
     "name": "stdout",
     "output_type": "stream",
     "text": [
      "This function does not have a return statement\n",
      "None\n"
     ]
    }
   ],
   "source": [
    "def no_return():\n",
    "    print(\"This function does not have a return statement\")\n",
    "\n",
    "result = no_return()\n",
    "print(result)  # Output: None"
   ]
  },
  {
   "cell_type": "markdown",
   "id": "b3d93c14",
   "metadata": {},
   "source": [
    "Q.9. How do you make a function variable refer to the global variable?"
   ]
  },
  {
   "cell_type": "markdown",
   "id": "f68acb30",
   "metadata": {},
   "source": [
    "A.9.Use the global keyword to indicate that a variable inside a function should refer to the global variable with the same name. This allows you to modify the global variable from within the function. Here's an example:"
   ]
  },
  {
   "cell_type": "code",
   "execution_count": 4,
   "id": "2cb8820a",
   "metadata": {},
   "outputs": [
    {
     "name": "stdout",
     "output_type": "stream",
     "text": [
      "Before function call: 1.0\n",
      "After function call: 2.0\n"
     ]
    }
   ],
   "source": [
    "x = 1.0  # Global variable\n",
    "\n",
    "def modify_global_variable():\n",
    "    global x  # Declare x as a global variable\n",
    "    x = 2.0  # Modify the global variable\n",
    "\n",
    "print(\"Before function call:\", x)  # Output: 10\n",
    "modify_global_variable()\n",
    "print(\"After function call:\", x)  # Output: 20\n"
   ]
  },
  {
   "cell_type": "markdown",
   "id": "5565077f",
   "metadata": {},
   "source": [
    "Q.10.What is the data type of None?"
   ]
  },
  {
   "cell_type": "markdown",
   "id": "43da4459",
   "metadata": {},
   "source": [
    "A.10. Print statement returns data type none, and if we don't have return function before calling function it will give data type none. For eg."
   ]
  },
  {
   "cell_type": "code",
   "execution_count": 1,
   "id": "81245e54",
   "metadata": {},
   "outputs": [
    {
     "name": "stdout",
     "output_type": "stream",
     "text": [
      "This function does not have a return statement\n",
      "None\n",
      "<class 'NoneType'>\n"
     ]
    }
   ],
   "source": [
    "def my_function():\n",
    "    print(\"This function does not have a return statement\")\n",
    "\n",
    "result = my_function()\n",
    "print(result)  # Output: None\n",
    "print(type(result))  # Output: <class 'NoneType'>\n"
   ]
  },
  {
   "cell_type": "markdown",
   "id": "cc10e3a6",
   "metadata": {},
   "source": [
    "Q.11.What does the sentence import areallyourpetsnamederic do?"
   ]
  },
  {
   "cell_type": "markdown",
   "id": "cf492354",
   "metadata": {},
   "source": [
    "A.11. The sentence import areallyourpetsnamederic, imports a module named areallyourpetsnamederic, the import statement is used to bring in external modules or packages into your code, allowing you to access their functionality.\n",
    "\n",
    "In the case of import areallyourpetsnamederic, it suggests that you are trying to import a module with a non-standard, unconventional name that is unlikely to exist."
   ]
  },
  {
   "cell_type": "markdown",
   "id": "3a4e3bf8",
   "metadata": {},
   "source": [
    "Q.12. If you had a bacon() feature in a spam module, what would you call it after importing spam?"
   ]
  },
  {
   "cell_type": "markdown",
   "id": "ae682927",
   "metadata": {},
   "source": [
    "A.12. If you have imported the spam module in your code, you can access the bacon() feature from the spam module using the dot notation.eg."
   ]
  },
  {
   "cell_type": "code",
   "execution_count": 2,
   "id": "35ee0904",
   "metadata": {},
   "outputs": [
    {
     "ename": "ModuleNotFoundError",
     "evalue": "No module named 'spam'",
     "output_type": "error",
     "traceback": [
      "\u001b[1;31m---------------------------------------------------------------------------\u001b[0m",
      "\u001b[1;31mModuleNotFoundError\u001b[0m                       Traceback (most recent call last)",
      "Cell \u001b[1;32mIn[2], line 1\u001b[0m\n\u001b[1;32m----> 1\u001b[0m \u001b[38;5;28;01mimport\u001b[39;00m \u001b[38;5;21;01mspam\u001b[39;00m\n\u001b[0;32m      3\u001b[0m spam\u001b[38;5;241m.\u001b[39mbacon()\n",
      "\u001b[1;31mModuleNotFoundError\u001b[0m: No module named 'spam'"
     ]
    }
   ],
   "source": [
    "import spam\n",
    "\n",
    "spam.bacon()"
   ]
  },
  {
   "cell_type": "markdown",
   "id": "1deb597d",
   "metadata": {},
   "source": [
    "In the code above, we import the spam module using the import statement. After that, we can call the bacon() function from the spam module using spam.bacon()."
   ]
  },
  {
   "cell_type": "markdown",
   "id": "58ffd9df",
   "metadata": {},
   "source": [
    "The dot notation allows you to access features (functions, variables, classes, etc.) that are defined within a module. By prefixing the module name followed by a dot, you can access the desired feature within that module."
   ]
  },
  {
   "cell_type": "markdown",
   "id": "18c74676",
   "metadata": {},
   "source": [
    "Q.13.What can you do to save a programme from crashing if it encounters an error?"
   ]
  },
  {
   "cell_type": "markdown",
   "id": "cdc821ab",
   "metadata": {},
   "source": [
    "A.13.To prevent a program from crashing when it encounters an error, you can use error handling techniques to catch and handle exceptions. This allows you to gracefully handle errors and perform alternative actions instead of abruptly terminating the program. In Python, you can achieve this using try-except blocks.\n"
   ]
  },
  {
   "cell_type": "code",
   "execution_count": null,
   "id": "d653b59f",
   "metadata": {},
   "outputs": [],
   "source": [
    "try:\n",
    "    # Code that may raise an exception\n",
    "    # ...\n",
    "except ExceptionType:\n",
    "    # Code to handle the exception\n",
    "    # ...\n"
   ]
  },
  {
   "cell_type": "markdown",
   "id": "9a9955c2",
   "metadata": {},
   "source": [
    "In the above code, you place the potentially error-prone code inside the try block. If an exception of type ExceptionType or any of its subclasses occurs, the program will jump to the corresponding except block. Inside the except block, you can define the actions to be taken when the exception is caught."
   ]
  },
  {
   "cell_type": "markdown",
   "id": "1e67f303",
   "metadata": {},
   "source": [
    "For example, if you want to catch all exceptions, you can use the generic Exception class:"
   ]
  },
  {
   "cell_type": "markdown",
   "id": "d9bb0064",
   "metadata": {},
   "source": [
    "By handling exceptions, you can display an error message, log the error, retry the operation, or perform any other appropriate action to handle the exceptional situation and continue the program's execution."
   ]
  },
  {
   "cell_type": "markdown",
   "id": "1b91c656",
   "metadata": {},
   "source": [
    "It's important to note that indiscriminately catching all exceptions can make it harder to identify and troubleshoot errors. It's generally recommended to handle specific exceptions or groups of related exceptions, allowing you to handle each type of error differently if needed."
   ]
  },
  {
   "cell_type": "markdown",
   "id": "c279ae24",
   "metadata": {},
   "source": [
    "Q.14.What is the purpose of the try clause? What is the purpose of the except clause?"
   ]
  },
  {
   "cell_type": "markdown",
   "id": "d482bef3",
   "metadata": {},
   "source": [
    "A.14.Try Clause: The purpose of the try clause is to enclose the code that might raise an exception. This allows you to specify a block of code where you anticipate the occurrence of exceptions. It is where you place code that needs to be executed, and any exceptions that occur during its execution will be caught by the corresponding except block.\n",
    "\n",
    "Except Clause: The purpose of the except clause is to define how to handle exceptions that occur within the associated try block. It specifies the code that will be executed when a specific type of exception occurs. The except block is where you define the actions to be taken when an exception is caught, such as displaying an error message, logging the error, retrying the operation, or performing any other appropriate error-handling logic."
   ]
  },
  {
   "cell_type": "code",
   "execution_count": null,
   "id": "831e49d7",
   "metadata": {},
   "outputs": [],
   "source": []
  },
  {
   "cell_type": "code",
   "execution_count": null,
   "id": "5c4a888c",
   "metadata": {},
   "outputs": [],
   "source": []
  },
  {
   "cell_type": "code",
   "execution_count": null,
   "id": "41312a5f",
   "metadata": {},
   "outputs": [],
   "source": []
  },
  {
   "cell_type": "code",
   "execution_count": null,
   "id": "214965e9",
   "metadata": {},
   "outputs": [],
   "source": []
  },
  {
   "cell_type": "code",
   "execution_count": null,
   "id": "00bb9747",
   "metadata": {},
   "outputs": [],
   "source": []
  },
  {
   "cell_type": "code",
   "execution_count": null,
   "id": "62cd9678",
   "metadata": {},
   "outputs": [],
   "source": []
  },
  {
   "cell_type": "code",
   "execution_count": null,
   "id": "f67a9a2b",
   "metadata": {},
   "outputs": [],
   "source": []
  }
 ],
 "metadata": {
  "kernelspec": {
   "display_name": "Python 3 (ipykernel)",
   "language": "python",
   "name": "python3"
  },
  "language_info": {
   "codemirror_mode": {
    "name": "ipython",
    "version": 3
   },
   "file_extension": ".py",
   "mimetype": "text/x-python",
   "name": "python",
   "nbconvert_exporter": "python",
   "pygments_lexer": "ipython3",
   "version": "3.10.9"
  }
 },
 "nbformat": 4,
 "nbformat_minor": 5
}
